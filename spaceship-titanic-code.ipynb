{
 "cells": [
  {
   "cell_type": "markdown",
   "id": "ee14f9f2",
   "metadata": {
    "papermill": {
     "duration": 0.008872,
     "end_time": "2024-07-05T15:28:06.038857",
     "exception": false,
     "start_time": "2024-07-05T15:28:06.029985",
     "status": "completed"
    },
    "tags": []
   },
   "source": [
    "# Spaceship Titanic"
   ]
  },
  {
   "cell_type": "markdown",
   "id": "54035806",
   "metadata": {
    "papermill": {
     "duration": 0.008335,
     "end_time": "2024-07-05T15:28:06.055519",
     "exception": false,
     "start_time": "2024-07-05T15:28:06.047184",
     "status": "completed"
    },
    "tags": []
   },
   "source": [
    "**Import libraries**"
   ]
  },
  {
   "cell_type": "code",
   "execution_count": 1,
   "id": "bd856594",
   "metadata": {
    "execution": {
     "iopub.execute_input": "2024-07-05T15:28:06.073681Z",
     "iopub.status.busy": "2024-07-05T15:28:06.073264Z",
     "iopub.status.idle": "2024-07-05T15:28:08.867491Z",
     "shell.execute_reply": "2024-07-05T15:28:08.866564Z"
    },
    "papermill": {
     "duration": 2.806415,
     "end_time": "2024-07-05T15:28:08.870180",
     "exception": false,
     "start_time": "2024-07-05T15:28:06.063765",
     "status": "completed"
    },
    "tags": []
   },
   "outputs": [],
   "source": [
    "import pandas as pd\n",
    "import numpy as np\n",
    "import seaborn as sns\n",
    "import matplotlib.pyplot as plt\n",
    "# from sklearn.preprocessing import OneHotEncoder\n",
    "from sklearn.model_selection import train_test_split\n",
    "from sklearn.preprocessing import LabelEncoder\n",
    "from sklearn.metrics import accuracy_score\n",
    "from sklearn.metrics import classification_report\n",
    "import xgboost as xgb"
   ]
  },
  {
   "cell_type": "markdown",
   "id": "a89c0dc7",
   "metadata": {
    "papermill": {
     "duration": 0.007925,
     "end_time": "2024-07-05T15:28:08.886651",
     "exception": false,
     "start_time": "2024-07-05T15:28:08.878726",
     "status": "completed"
    },
    "tags": []
   },
   "source": [
    "**Load the datasets**"
   ]
  },
  {
   "cell_type": "code",
   "execution_count": 2,
   "id": "d63aa1ec",
   "metadata": {
    "execution": {
     "iopub.execute_input": "2024-07-05T15:28:08.905667Z",
     "iopub.status.busy": "2024-07-05T15:28:08.904537Z",
     "iopub.status.idle": "2024-07-05T15:28:09.002172Z",
     "shell.execute_reply": "2024-07-05T15:28:09.001212Z"
    },
    "papermill": {
     "duration": 0.110067,
     "end_time": "2024-07-05T15:28:09.004899",
     "exception": false,
     "start_time": "2024-07-05T15:28:08.894832",
     "status": "completed"
    },
    "tags": []
   },
   "outputs": [],
   "source": [
    "train_df = pd.read_csv('/kaggle/input/spaceship-titanic/train.csv')\n",
    "test_df = pd.read_csv('/kaggle/input/spaceship-titanic/test.csv')"
   ]
  },
  {
   "cell_type": "code",
   "execution_count": 3,
   "id": "eecce27e",
   "metadata": {
    "execution": {
     "iopub.execute_input": "2024-07-05T15:28:09.024395Z",
     "iopub.status.busy": "2024-07-05T15:28:09.023233Z",
     "iopub.status.idle": "2024-07-05T15:28:09.045716Z",
     "shell.execute_reply": "2024-07-05T15:28:09.044328Z"
    },
    "papermill": {
     "duration": 0.034645,
     "end_time": "2024-07-05T15:28:09.048172",
     "exception": false,
     "start_time": "2024-07-05T15:28:09.013527",
     "status": "completed"
    },
    "tags": []
   },
   "outputs": [
    {
     "name": "stdout",
     "output_type": "stream",
     "text": [
      "Training Data Head:\n",
      "  PassengerId HomePlanet CryoSleep  Cabin  Destination   Age    VIP  \\\n",
      "0     0001_01     Europa     False  B/0/P  TRAPPIST-1e  39.0  False   \n",
      "1     0002_01      Earth     False  F/0/S  TRAPPIST-1e  24.0  False   \n",
      "2     0003_01     Europa     False  A/0/S  TRAPPIST-1e  58.0   True   \n",
      "3     0003_02     Europa     False  A/0/S  TRAPPIST-1e  33.0  False   \n",
      "4     0004_01      Earth     False  F/1/S  TRAPPIST-1e  16.0  False   \n",
      "\n",
      "   RoomService  FoodCourt  ShoppingMall     Spa  VRDeck               Name  \\\n",
      "0          0.0        0.0           0.0     0.0     0.0    Maham Ofracculy   \n",
      "1        109.0        9.0          25.0   549.0    44.0       Juanna Vines   \n",
      "2         43.0     3576.0           0.0  6715.0    49.0      Altark Susent   \n",
      "3          0.0     1283.0         371.0  3329.0   193.0       Solam Susent   \n",
      "4        303.0       70.0         151.0   565.0     2.0  Willy Santantines   \n",
      "\n",
      "   Transported  \n",
      "0        False  \n",
      "1         True  \n",
      "2        False  \n",
      "3        False  \n",
      "4         True  \n"
     ]
    }
   ],
   "source": [
    "# Display the first few rows of the training data\n",
    "print(\"Training Data Head:\")\n",
    "print(train_df.head())"
   ]
  },
  {
   "cell_type": "code",
   "execution_count": 4,
   "id": "9d0308ff",
   "metadata": {
    "execution": {
     "iopub.execute_input": "2024-07-05T15:28:09.067335Z",
     "iopub.status.busy": "2024-07-05T15:28:09.066936Z",
     "iopub.status.idle": "2024-07-05T15:28:09.099252Z",
     "shell.execute_reply": "2024-07-05T15:28:09.098181Z"
    },
    "papermill": {
     "duration": 0.045053,
     "end_time": "2024-07-05T15:28:09.101984",
     "exception": false,
     "start_time": "2024-07-05T15:28:09.056931",
     "status": "completed"
    },
    "tags": []
   },
   "outputs": [
    {
     "name": "stdout",
     "output_type": "stream",
     "text": [
      "\n",
      "Training Data Info:\n",
      "<class 'pandas.core.frame.DataFrame'>\n",
      "RangeIndex: 8693 entries, 0 to 8692\n",
      "Data columns (total 14 columns):\n",
      " #   Column        Non-Null Count  Dtype  \n",
      "---  ------        --------------  -----  \n",
      " 0   PassengerId   8693 non-null   object \n",
      " 1   HomePlanet    8492 non-null   object \n",
      " 2   CryoSleep     8476 non-null   object \n",
      " 3   Cabin         8494 non-null   object \n",
      " 4   Destination   8511 non-null   object \n",
      " 5   Age           8514 non-null   float64\n",
      " 6   VIP           8490 non-null   object \n",
      " 7   RoomService   8512 non-null   float64\n",
      " 8   FoodCourt     8510 non-null   float64\n",
      " 9   ShoppingMall  8485 non-null   float64\n",
      " 10  Spa           8510 non-null   float64\n",
      " 11  VRDeck        8505 non-null   float64\n",
      " 12  Name          8493 non-null   object \n",
      " 13  Transported   8693 non-null   bool   \n",
      "dtypes: bool(1), float64(6), object(7)\n",
      "memory usage: 891.5+ KB\n",
      "None\n"
     ]
    }
   ],
   "source": [
    "print(\"\\nTraining Data Info:\")\n",
    "print(train_df.info())"
   ]
  },
  {
   "cell_type": "markdown",
   "id": "103d1b7b",
   "metadata": {
    "papermill": {
     "duration": 0.008373,
     "end_time": "2024-07-05T15:28:09.118963",
     "exception": false,
     "start_time": "2024-07-05T15:28:09.110590",
     "status": "completed"
    },
    "tags": []
   },
   "source": [
    "**Data Exploration**"
   ]
  },
  {
   "cell_type": "code",
   "execution_count": 5,
   "id": "61734752",
   "metadata": {
    "execution": {
     "iopub.execute_input": "2024-07-05T15:28:09.138275Z",
     "iopub.status.busy": "2024-07-05T15:28:09.137545Z",
     "iopub.status.idle": "2024-07-05T15:28:09.164575Z",
     "shell.execute_reply": "2024-07-05T15:28:09.163285Z"
    },
    "papermill": {
     "duration": 0.039807,
     "end_time": "2024-07-05T15:28:09.167286",
     "exception": false,
     "start_time": "2024-07-05T15:28:09.127479",
     "status": "completed"
    },
    "tags": []
   },
   "outputs": [
    {
     "name": "stdout",
     "output_type": "stream",
     "text": [
      "\n",
      "Summary Statistics:\n",
      "               Age   RoomService     FoodCourt  ShoppingMall           Spa  \\\n",
      "count  8514.000000   8512.000000   8510.000000   8485.000000   8510.000000   \n",
      "mean     28.827930    224.687617    458.077203    173.729169    311.138778   \n",
      "std      14.489021    666.717663   1611.489240    604.696458   1136.705535   \n",
      "min       0.000000      0.000000      0.000000      0.000000      0.000000   \n",
      "25%      19.000000      0.000000      0.000000      0.000000      0.000000   \n",
      "50%      27.000000      0.000000      0.000000      0.000000      0.000000   \n",
      "75%      38.000000     47.000000     76.000000     27.000000     59.000000   \n",
      "max      79.000000  14327.000000  29813.000000  23492.000000  22408.000000   \n",
      "\n",
      "             VRDeck  \n",
      "count   8505.000000  \n",
      "mean     304.854791  \n",
      "std     1145.717189  \n",
      "min        0.000000  \n",
      "25%        0.000000  \n",
      "50%        0.000000  \n",
      "75%       46.000000  \n",
      "max    24133.000000  \n"
     ]
    }
   ],
   "source": [
    "print(\"\\nSummary Statistics:\")\n",
    "print(train_df.describe())"
   ]
  },
  {
   "cell_type": "code",
   "execution_count": 6,
   "id": "48ed7174",
   "metadata": {
    "execution": {
     "iopub.execute_input": "2024-07-05T15:28:09.187017Z",
     "iopub.status.busy": "2024-07-05T15:28:09.186642Z",
     "iopub.status.idle": "2024-07-05T15:28:09.202336Z",
     "shell.execute_reply": "2024-07-05T15:28:09.200965Z"
    },
    "papermill": {
     "duration": 0.028626,
     "end_time": "2024-07-05T15:28:09.204780",
     "exception": false,
     "start_time": "2024-07-05T15:28:09.176154",
     "status": "completed"
    },
    "tags": []
   },
   "outputs": [
    {
     "name": "stdout",
     "output_type": "stream",
     "text": [
      "\n",
      "Missing Values:\n",
      "PassengerId       0\n",
      "HomePlanet      201\n",
      "CryoSleep       217\n",
      "Cabin           199\n",
      "Destination     182\n",
      "Age             179\n",
      "VIP             203\n",
      "RoomService     181\n",
      "FoodCourt       183\n",
      "ShoppingMall    208\n",
      "Spa             183\n",
      "VRDeck          188\n",
      "Name            200\n",
      "Transported       0\n",
      "dtype: int64\n"
     ]
    }
   ],
   "source": [
    "print(\"\\nMissing Values:\")\n",
    "print(train_df.isnull().sum())"
   ]
  },
  {
   "cell_type": "markdown",
   "id": "75aeeec3",
   "metadata": {
    "papermill": {
     "duration": 0.008733,
     "end_time": "2024-07-05T15:28:09.222315",
     "exception": false,
     "start_time": "2024-07-05T15:28:09.213582",
     "status": "completed"
    },
    "tags": []
   },
   "source": [
    "**Visualize the Data**"
   ]
  },
  {
   "cell_type": "code",
   "execution_count": 7,
   "id": "1435dc2d",
   "metadata": {
    "execution": {
     "iopub.execute_input": "2024-07-05T15:28:09.242256Z",
     "iopub.status.busy": "2024-07-05T15:28:09.241523Z",
     "iopub.status.idle": "2024-07-05T15:28:09.510688Z",
     "shell.execute_reply": "2024-07-05T15:28:09.509661Z"
    },
    "papermill": {
     "duration": 0.281885,
     "end_time": "2024-07-05T15:28:09.513369",
     "exception": false,
     "start_time": "2024-07-05T15:28:09.231484",
     "status": "completed"
    },
    "tags": []
   },
   "outputs": [
    {
     "data": {
      "image/png": "[encoded data removed]",
      "text/plain": [
       "<Figure size 800x600 with 1 Axes>"
      ]
     },
     "metadata": {},
     "output_type": "display_data"
    }
   ],
   "source": [
    "# 1. Distribution of the Target Variable (Transported)\n",
    "plt.figure(figsize=(8, 6))\n",
    "sns.countplot(x='Transported', data=train_df)\n",
    "plt.title('Distribution of Target Variable (Transported)')\n",
    "plt.show()"
   ]
  },
  {
   "cell_type": "code",
   "execution_count": 8,
   "id": "10ad9f70",
   "metadata": {
    "execution": {
     "iopub.execute_input": "2024-07-05T15:28:09.533838Z",
     "iopub.status.busy": "2024-07-05T15:28:09.533227Z",
     "iopub.status.idle": "2024-07-05T15:28:10.005580Z",
     "shell.execute_reply": "2024-07-05T15:28:10.004448Z"
    },
    "papermill": {
     "duration": 0.485241,
     "end_time": "2024-07-05T15:28:10.007932",
     "exception": false,
     "start_time": "2024-07-05T15:28:09.522691",
     "status": "completed"
    },
    "tags": []
   },
   "outputs": [
    {
     "name": "stderr",
     "output_type": "stream",
     "text": [
      "/opt/conda/lib/python3.10/site-packages/seaborn/_oldcore.py:1119: FutureWarning: use_inf_as_na option is deprecated and will be removed in a future version. Convert inf values to NaN before operating instead.\n",
      "  with pd.option_context('mode.use_inf_as_na', True):\n"
     ]
    },
    {
     "data": {
      "image/png": "[encoded data removed]",
      "text/plain": [
       "<Figure size 800x600 with 1 Axes>"
      ]
     },
     "metadata": {},
     "output_type": "display_data"
    }
   ],
   "source": [
    "# 2. Age Distribution\n",
    "plt.figure(figsize=(8, 6))\n",
    "sns.histplot(train_df['Age'].dropna(), bins=30, kde=True)\n",
    "plt.title('Age Distribution')\n",
    "plt.show()"
   ]
  },
  {
   "cell_type": "code",
   "execution_count": 9,
   "id": "6fb1fea3",
   "metadata": {
    "execution": {
     "iopub.execute_input": "2024-07-05T15:28:10.031162Z",
     "iopub.status.busy": "2024-07-05T15:28:10.030741Z",
     "iopub.status.idle": "2024-07-05T15:29:20.807499Z",
     "shell.execute_reply": "2024-07-05T15:29:20.806350Z"
    },
    "papermill": {
     "duration": 70.801863,
     "end_time": "2024-07-05T15:29:20.820825",
     "exception": false,
     "start_time": "2024-07-05T15:28:10.018962",
     "status": "completed"
    },
    "tags": []
   },
   "outputs": [
    {
     "data": {
      "image/png": "[encoded data removed]",
      "text/plain": [
       "<Figure size 800x600 with 1 Axes>"
      ]
     },
     "metadata": {},
     "output_type": "display_data"
    }
   ],
   "source": [
    "# 3. Cabin Class Distribution\n",
    "plt.figure(figsize=(8, 6))\n",
    "sns.countplot(x='Cabin', data=train_df)\n",
    "plt.title('Cabin Class Distribution')\n",
    "plt.show()"
   ]
  },
  {
   "cell_type": "markdown",
   "id": "60b7d9b7",
   "metadata": {
    "papermill": {
     "duration": 0.010338,
     "end_time": "2024-07-05T15:29:20.841467",
     "exception": false,
     "start_time": "2024-07-05T15:29:20.831129",
     "status": "completed"
    },
    "tags": []
   },
   "source": [
    "**Data Cleaning and Feature Engineering**"
   ]
  },
  {
   "cell_type": "code",
   "execution_count": 10,
   "id": "707883ac",
   "metadata": {
    "execution": {
     "iopub.execute_input": "2024-07-05T15:29:20.865146Z",
     "iopub.status.busy": "2024-07-05T15:29:20.864143Z",
     "iopub.status.idle": "2024-07-05T15:29:20.986424Z",
     "shell.execute_reply": "2024-07-05T15:29:20.985334Z"
    },
    "papermill": {
     "duration": 0.137106,
     "end_time": "2024-07-05T15:29:20.989106",
     "exception": false,
     "start_time": "2024-07-05T15:29:20.852000",
     "status": "completed"
    },
    "tags": []
   },
   "outputs": [
    {
     "name": "stderr",
     "output_type": "stream",
     "text": [
      "/tmp/ipykernel_18/3498877172.py:3: FutureWarning: Downcasting object dtype arrays on .fillna, .ffill, .bfill is deprecated and will change in a future version. Call result.infer_objects(copy=False) instead. To opt-in to the future behavior, set `pd.set_option('future.no_silent_downcasting', True)`\n",
      "  df['CryoSleep'] = df['CryoSleep'].fillna(False).infer_objects(copy=False)\n",
      "/tmp/ipykernel_18/3498877172.py:7: FutureWarning: Downcasting object dtype arrays on .fillna, .ffill, .bfill is deprecated and will change in a future version. Call result.infer_objects(copy=False) instead. To opt-in to the future behavior, set `pd.set_option('future.no_silent_downcasting', True)`\n",
      "  df['VIP'] = df['VIP'].fillna(False).infer_objects(copy=False)\n",
      "/tmp/ipykernel_18/3498877172.py:3: FutureWarning: Downcasting object dtype arrays on .fillna, .ffill, .bfill is deprecated and will change in a future version. Call result.infer_objects(copy=False) instead. To opt-in to the future behavior, set `pd.set_option('future.no_silent_downcasting', True)`\n",
      "  df['CryoSleep'] = df['CryoSleep'].fillna(False).infer_objects(copy=False)\n",
      "/tmp/ipykernel_18/3498877172.py:7: FutureWarning: Downcasting object dtype arrays on .fillna, .ffill, .bfill is deprecated and will change in a future version. Call result.infer_objects(copy=False) instead. To opt-in to the future behavior, set `pd.set_option('future.no_silent_downcasting', True)`\n",
      "  df['VIP'] = df['VIP'].fillna(False).infer_objects(copy=False)\n"
     ]
    }
   ],
   "source": [
    "def fill_missing_values(df):\n",
    "    df['HomePlanet'] = df['HomePlanet'].fillna('Earth')\n",
    "    df['CryoSleep'] = df['CryoSleep'].fillna(False).infer_objects(copy=False)\n",
    "    df['Cabin'] = df['Cabin'].fillna('Unknown')\n",
    "    df['Destination'] = df['Destination'].fillna('TRAPPIST-1e')\n",
    "    df['Age'] = df['Age'].fillna(df['Age'].median())\n",
    "    df['VIP'] = df['VIP'].fillna(False).infer_objects(copy=False)\n",
    "    df = df.fillna(0)\n",
    "    return df\n",
    "\n",
    "# Apply missing value filling\n",
    "train_df = fill_missing_values(train_df)\n",
    "test_df = fill_missing_values(test_df)\n",
    "\n",
    "# Convert columns to string type to ensure uniformity\n",
    "label_cols = ['HomePlanet', 'CryoSleep', 'Cabin', 'Destination', 'VIP']\n",
    "for col in label_cols:\n",
    "    train_df[col] = train_df[col].astype(str)\n",
    "    test_df[col] = test_df[col].astype(str)\n",
    "\n",
    "# Combine data from both datasets for fitting the encoder\n",
    "combined_data = pd.concat([train_df[label_cols], test_df[label_cols]], axis=0)\n",
    "\n",
    "# Label encoding using combined data\n",
    "label_encoders = {col: LabelEncoder().fit(combined_data[col]) for col in label_cols}\n",
    "\n",
    "# Apply label encoding to the train and test sets\n",
    "for col, le in label_encoders.items():\n",
    "    train_df[col] = le.transform(train_df[col])\n",
    "    test_df[col] = le.transform(test_df[col])\n",
    "\n",
    "# Prepare features and target\n",
    "X = train_df.drop(['PassengerId', 'Name', 'Transported'], axis=1)\n",
    "y = train_df['Transported'].astype(int)\n",
    "X_test = test_df.drop(['PassengerId', 'Name'], axis=1)\n"
   ]
  },
  {
   "cell_type": "markdown",
   "id": "fc525437",
   "metadata": {
    "papermill": {
     "duration": 0.010622,
     "end_time": "2024-07-05T15:29:21.011043",
     "exception": false,
     "start_time": "2024-07-05T15:29:21.000421",
     "status": "completed"
    },
    "tags": []
   },
   "source": [
    "**Model Training**"
   ]
  },
  {
   "cell_type": "code",
   "execution_count": 11,
   "id": "5bcc50a0",
   "metadata": {
    "execution": {
     "iopub.execute_input": "2024-07-05T15:29:21.034781Z",
     "iopub.status.busy": "2024-07-05T15:29:21.034313Z",
     "iopub.status.idle": "2024-07-05T15:29:21.044956Z",
     "shell.execute_reply": "2024-07-05T15:29:21.043769Z"
    },
    "papermill": {
     "duration": 0.025867,
     "end_time": "2024-07-05T15:29:21.047750",
     "exception": false,
     "start_time": "2024-07-05T15:29:21.021883",
     "status": "completed"
    },
    "tags": []
   },
   "outputs": [],
   "source": [
    "# Split the data into train and validation sets\n",
    "X_train, X_val, y_train, y_val = train_test_split(X, y, test_size=0.2, random_state=42)"
   ]
  },
  {
   "cell_type": "code",
   "execution_count": 12,
   "id": "5a183e5d",
   "metadata": {
    "execution": {
     "iopub.execute_input": "2024-07-05T15:29:21.072633Z",
     "iopub.status.busy": "2024-07-05T15:29:21.071929Z",
     "iopub.status.idle": "2024-07-05T15:29:21.366842Z",
     "shell.execute_reply": "2024-07-05T15:29:21.365759Z"
    },
    "papermill": {
     "duration": 0.309377,
     "end_time": "2024-07-05T15:29:21.369267",
     "exception": false,
     "start_time": "2024-07-05T15:29:21.059890",
     "status": "completed"
    },
    "tags": []
   },
   "outputs": [
    {
     "data": {
      "text/html": [
       "<style>#sk-container-id-1 {color: black;background-color: white;}#sk-container-id-1 pre{padding: 0;}#sk-container-id-1 div.sk-toggleable {background-color: white;}#sk-container-id-1 label.sk-toggleable__label {cursor: pointer;display: block;width: 100%;margin-bottom: 0;padding: 0.3em;box-sizing: border-box;text-align: center;}#sk-container-id-1 label.sk-toggleable__label-arrow:before {content: \"▸\";float: left;margin-right: 0.25em;color: #696969;}#sk-container-id-1 label.sk-toggleable__label-arrow:hover:before {color: black;}#sk-container-id-1 div.sk-estimator:hover label.sk-toggleable__label-arrow:before {color: black;}#sk-container-id-1 div.sk-toggleable__content {max-height: 0;max-width: 0;overflow: hidden;text-align: left;background-color: #f0f8ff;}#sk-container-id-1 div.sk-toggleable__content pre {margin: 0.2em;color: black;border-radius: 0.25em;background-color: #f0f8ff;}#sk-container-id-1 input.sk-toggleable__control:checked~div.sk-toggleable__content {max-height: 200px;max-width: 100%;overflow: auto;}#sk-container-id-1 input.sk-toggleable__control:checked~label.sk-toggleable__label-arrow:before {content: \"▾\";}#sk-container-id-1 div.sk-estimator input.sk-toggleable__control:checked~label.sk-toggleable__label {background-color: #d4ebff;}#sk-container-id-1 div.sk-label input.sk-toggleable__control:checked~label.sk-toggleable__label {background-color: #d4ebff;}#sk-container-id-1 input.sk-hidden--visually {border: 0;clip: rect(1px 1px 1px 1px);clip: rect(1px, 1px, 1px, 1px);height: 1px;margin: -1px;overflow: hidden;padding: 0;position: absolute;width: 1px;}#sk-container-id-1 div.sk-estimator {font-family: monospace;background-color: #f0f8ff;border: 1px dotted black;border-radius: 0.25em;box-sizing: border-box;margin-bottom: 0.5em;}#sk-container-id-1 div.sk-estimator:hover {background-color: #d4ebff;}#sk-container-id-1 div.sk-parallel-item::after {content: \"\";width: 100%;border-bottom: 1px solid gray;flex-grow: 1;}#sk-container-id-1 div.sk-label:hover label.sk-toggleable__label {background-color: #d4ebff;}#sk-container-id-1 div.sk-serial::before {content: \"\";position: absolute;border-left: 1px solid gray;box-sizing: border-box;top: 0;bottom: 0;left: 50%;z-index: 0;}#sk-container-id-1 div.sk-serial {display: flex;flex-direction: column;align-items: center;background-color: white;padding-right: 0.2em;padding-left: 0.2em;position: relative;}#sk-container-id-1 div.sk-item {position: relative;z-index: 1;}#sk-container-id-1 div.sk-parallel {display: flex;align-items: stretch;justify-content: center;background-color: white;position: relative;}#sk-container-id-1 div.sk-item::before, #sk-container-id-1 div.sk-parallel-item::before {content: \"\";position: absolute;border-left: 1px solid gray;box-sizing: border-box;top: 0;bottom: 0;left: 50%;z-index: -1;}#sk-container-id-1 div.sk-parallel-item {display: flex;flex-direction: column;z-index: 1;position: relative;background-color: white;}#sk-container-id-1 div.sk-parallel-item:first-child::after {align-self: flex-end;width: 50%;}#sk-container-id-1 div.sk-parallel-item:last-child::after {align-self: flex-start;width: 50%;}#sk-container-id-1 div.sk-parallel-item:only-child::after {width: 0;}#sk-container-id-1 div.sk-dashed-wrapped {border: 1px dashed gray;margin: 0 0.4em 0.5em 0.4em;box-sizing: border-box;padding-bottom: 0.4em;background-color: white;}#sk-container-id-1 div.sk-label label {font-family: monospace;font-weight: bold;display: inline-block;line-height: 1.2em;}#sk-container-id-1 div.sk-label-container {text-align: center;}#sk-container-id-1 div.sk-container {/* jupyter's `normalize.less` sets `[hidden] { display: none; }` but bootstrap.min.css set `[hidden] { display: none !important; }` so we also need the `!important` here to be able to override the default hidden behavior on the sphinx rendered scikit-learn.org. See: https://github.com/scikit-learn/scikit-learn/issues/21755 */display: inline-block !important;position: relative;}#sk-container-id-1 div.sk-text-repr-fallback {display: none;}</style><div id=\"sk-container-id-1\" class=\"sk-top-container\"><div class=\"sk-text-repr-fallback\"><pre>XGBClassifier(base_score=None, booster=None, callbacks=None,\n",
       "              colsample_bylevel=None, colsample_bynode=None,\n",
       "              colsample_bytree=None, device=None, early_stopping_rounds=None,\n",
       "              enable_categorical=False, eval_metric=None, feature_types=None,\n",
       "              gamma=None, grow_policy=None, importance_type=None,\n",
       "              interaction_constraints=None, learning_rate=0.1, max_bin=None,\n",
       "              max_cat_threshold=None, max_cat_to_onehot=None,\n",
       "              max_delta_step=None, max_depth=5, max_leaves=None,\n",
       "              min_child_weight=None, missing=nan, monotone_constraints=None,\n",
       "              multi_strategy=None, n_estimators=200, n_jobs=None,\n",
       "              num_parallel_tree=None, random_state=None, ...)</pre><b>In a Jupyter environment, please rerun this cell to show the HTML representation or trust the notebook. <br />On GitHub, the HTML representation is unable to render, please try loading this page with nbviewer.org.</b></div><div class=\"sk-container\" hidden><div class=\"sk-item\"><div class=\"sk-estimator sk-toggleable\"><input class=\"sk-toggleable__control sk-hidden--visually\" id=\"sk-estimator-id-1\" type=\"checkbox\" checked><label for=\"sk-estimator-id-1\" class=\"sk-toggleable__label sk-toggleable__label-arrow\">XGBClassifier</label><div class=\"sk-toggleable__content\"><pre>XGBClassifier(base_score=None, booster=None, callbacks=None,\n",
       "              colsample_bylevel=None, colsample_bynode=None,\n",
       "              colsample_bytree=None, device=None, early_stopping_rounds=None,\n",
       "              enable_categorical=False, eval_metric=None, feature_types=None,\n",
       "              gamma=None, grow_policy=None, importance_type=None,\n",
       "              interaction_constraints=None, learning_rate=0.1, max_bin=None,\n",
       "              max_cat_threshold=None, max_cat_to_onehot=None,\n",
       "              max_delta_step=None, max_depth=5, max_leaves=None,\n",
       "              min_child_weight=None, missing=nan, monotone_constraints=None,\n",
       "              multi_strategy=None, n_estimators=200, n_jobs=None,\n",
       "              num_parallel_tree=None, random_state=None, ...)</pre></div></div></div></div></div>"
      ],
      "text/plain": [
       "XGBClassifier(base_score=None, booster=None, callbacks=None,\n",
       "              colsample_bylevel=None, colsample_bynode=None,\n",
       "              colsample_bytree=None, device=None, early_stopping_rounds=None,\n",
       "              enable_categorical=False, eval_metric=None, feature_types=None,\n",
       "              gamma=None, grow_policy=None, importance_type=None,\n",
       "              interaction_constraints=None, learning_rate=0.1, max_bin=None,\n",
       "              max_cat_threshold=None, max_cat_to_onehot=None,\n",
       "              max_delta_step=None, max_depth=5, max_leaves=None,\n",
       "              min_child_weight=None, missing=nan, monotone_constraints=None,\n",
       "              multi_strategy=None, n_estimators=200, n_jobs=None,\n",
       "              num_parallel_tree=None, random_state=None, ...)"
      ]
     },
     "execution_count": 12,
     "metadata": {},
     "output_type": "execute_result"
    }
   ],
   "source": [
    "# Train the model\n",
    "model = xgb.XGBClassifier( n_estimators= 200, learning_rate= 0.1, max_depth = 5)\n",
    "model.fit(X_train, y_train)"
   ]
  },
  {
   "cell_type": "code",
   "execution_count": 13,
   "id": "56422f65",
   "metadata": {
    "execution": {
     "iopub.execute_input": "2024-07-05T15:29:21.393728Z",
     "iopub.status.busy": "2024-07-05T15:29:21.392880Z",
     "iopub.status.idle": "2024-07-05T15:29:21.406340Z",
     "shell.execute_reply": "2024-07-05T15:29:21.405434Z"
    },
    "papermill": {
     "duration": 0.028344,
     "end_time": "2024-07-05T15:29:21.408749",
     "exception": false,
     "start_time": "2024-07-05T15:29:21.380405",
     "status": "completed"
    },
    "tags": []
   },
   "outputs": [],
   "source": [
    "# Predict on validation set\n",
    "y_pred = model.predict(X_val)"
   ]
  },
  {
   "cell_type": "code",
   "execution_count": 14,
   "id": "9fcbe735",
   "metadata": {
    "execution": {
     "iopub.execute_input": "2024-07-05T15:29:21.435033Z",
     "iopub.status.busy": "2024-07-05T15:29:21.433925Z",
     "iopub.status.idle": "2024-07-05T15:29:21.451751Z",
     "shell.execute_reply": "2024-07-05T15:29:21.450609Z"
    },
    "papermill": {
     "duration": 0.032747,
     "end_time": "2024-07-05T15:29:21.454340",
     "exception": false,
     "start_time": "2024-07-05T15:29:21.421593",
     "status": "completed"
    },
    "tags": []
   },
   "outputs": [
    {
     "name": "stdout",
     "output_type": "stream",
     "text": [
      "Classification Report:\n",
      "              precision    recall  f1-score   support\n",
      "\n",
      "           0       0.80      0.77      0.78       861\n",
      "           1       0.78      0.82      0.80       878\n",
      "\n",
      "    accuracy                           0.79      1739\n",
      "   macro avg       0.79      0.79      0.79      1739\n",
      "weighted avg       0.79      0.79      0.79      1739\n",
      "\n"
     ]
    }
   ],
   "source": [
    "# Calculate accuracy\n",
    "print('Classification Report:')\n",
    "print(classification_report(y_val, y_pred))"
   ]
  },
  {
   "cell_type": "markdown",
   "id": "9536b773",
   "metadata": {
    "papermill": {
     "duration": 0.010995,
     "end_time": "2024-07-05T15:29:21.476550",
     "exception": false,
     "start_time": "2024-07-05T15:29:21.465555",
     "status": "completed"
    },
    "tags": []
   },
   "source": [
    "**Submission**"
   ]
  },
  {
   "cell_type": "code",
   "execution_count": 15,
   "id": "0b1d72e0",
   "metadata": {
    "execution": {
     "iopub.execute_input": "2024-07-05T15:29:21.500940Z",
     "iopub.status.busy": "2024-07-05T15:29:21.500130Z",
     "iopub.status.idle": "2024-07-05T15:29:21.517533Z",
     "shell.execute_reply": "2024-07-05T15:29:21.516424Z"
    },
    "papermill": {
     "duration": 0.032371,
     "end_time": "2024-07-05T15:29:21.520097",
     "exception": false,
     "start_time": "2024-07-05T15:29:21.487726",
     "status": "completed"
    },
    "tags": []
   },
   "outputs": [],
   "source": [
    "# Predict on the test set\n",
    "test_pred = model.predict(X_test)"
   ]
  },
  {
   "cell_type": "code",
   "execution_count": 16,
   "id": "352d1bf5",
   "metadata": {
    "execution": {
     "iopub.execute_input": "2024-07-05T15:29:21.545641Z",
     "iopub.status.busy": "2024-07-05T15:29:21.545214Z",
     "iopub.status.idle": "2024-07-05T15:29:21.551162Z",
     "shell.execute_reply": "2024-07-05T15:29:21.549946Z"
    },
    "papermill": {
     "duration": 0.020702,
     "end_time": "2024-07-05T15:29:21.553407",
     "exception": false,
     "start_time": "2024-07-05T15:29:21.532705",
     "status": "completed"
    },
    "tags": []
   },
   "outputs": [],
   "source": [
    "# Prepare submission file\n",
    "submission = pd.DataFrame({\n",
    "    'PassengerId': test_df['PassengerId'],\n",
    "    'Transported': test_pred\n",
    "})"
   ]
  },
  {
   "cell_type": "code",
   "execution_count": 17,
   "id": "a21f8ba2",
   "metadata": {
    "execution": {
     "iopub.execute_input": "2024-07-05T15:29:21.577732Z",
     "iopub.status.busy": "2024-07-05T15:29:21.576908Z",
     "iopub.status.idle": "2024-07-05T15:29:21.584594Z",
     "shell.execute_reply": "2024-07-05T15:29:21.583535Z"
    },
    "papermill": {
     "duration": 0.022251,
     "end_time": "2024-07-05T15:29:21.586847",
     "exception": false,
     "start_time": "2024-07-05T15:29:21.564596",
     "status": "completed"
    },
    "tags": []
   },
   "outputs": [],
   "source": [
    "# Convert boolean predictions to string (True/False)\n",
    "submission['Transported'] = submission['Transported'].map({1: True, 0: False})"
   ]
  },
  {
   "cell_type": "code",
   "execution_count": 18,
   "id": "abb60e0e",
   "metadata": {
    "execution": {
     "iopub.execute_input": "2024-07-05T15:29:21.611517Z",
     "iopub.status.busy": "2024-07-05T15:29:21.610766Z",
     "iopub.status.idle": "2024-07-05T15:29:21.626899Z",
     "shell.execute_reply": "2024-07-05T15:29:21.625592Z"
    },
    "papermill": {
     "duration": 0.031415,
     "end_time": "2024-07-05T15:29:21.629427",
     "exception": false,
     "start_time": "2024-07-05T15:29:21.598012",
     "status": "completed"
    },
    "tags": []
   },
   "outputs": [
    {
     "name": "stdout",
     "output_type": "stream",
     "text": [
      "Submission file saved as submission.csv\n"
     ]
    }
   ],
   "source": [
    "# Save the submission file\n",
    "submission.to_csv('submission.csv', index=False)\n",
    "print('Submission file saved as submission.csv')"
   ]
  },
  {
   "cell_type": "code",
   "execution_count": null,
   "id": "4b8f52fd",
   "metadata": {
    "papermill": {
     "duration": 0.011004,
     "end_time": "2024-07-05T15:29:21.651868",
     "exception": false,
     "start_time": "2024-07-05T15:29:21.640864",
     "status": "completed"
    },
    "tags": []
   },
   "outputs": [],
   "source": []
  }
 ],
 "metadata": {
  "kaggle": {
   "accelerator": "none",
   "dataSources": [
    {
     "databundleVersionId": 3220602,
     "sourceId": 34377,
     "sourceType": "competition"
    }
   ],
   "dockerImageVersionId": 30732,
   "isGpuEnabled": false,
   "isInternetEnabled": true,
   "language": "python",
   "sourceType": "notebook"
  },
  "kernelspec": {
   "display_name": "Python 3",
   "language": "python",
   "name": "python3"
  },
  "language_info": {
   "codemirror_mode": {
    "name": "ipython",
    "version": 3
   },
   "file_extension": ".py",
   "mimetype": "text/x-python",
   "name": "python",
   "nbconvert_exporter": "python",
   "pygments_lexer": "ipython3",
   "version": "3.10.13"
  },
  "papermill": {
   "default_parameters": {},
   "duration": 80.137483,
   "end_time": "2024-07-05T15:29:23.288883",
   "environment_variables": {},
   "exception": null,
   "input_path": "__notebook__.ipynb",
   "output_path": "__notebook__.ipynb",
   "parameters": {},
   "start_time": "2024-07-05T15:28:03.151400",
   "version": "2.5.0"
  }
 },
 "nbformat": 4,
 "nbformat_minor": 5
}
